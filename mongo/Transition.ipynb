{
 "cells": [
  {
   "cell_type": "code",
   "execution_count": 60,
   "metadata": {},
   "outputs": [],
   "source": [
    "from rich import print\n",
    "from pymongo import MongoClient\n",
    "from random import randint\n",
    "#\n",
    "import sys\n",
    "sys.path.append(\"..\")\n",
    "from components.fetch import fetch_db_url"
   ]
  },
  {
   "cell_type": "code",
   "execution_count": 61,
   "metadata": {},
   "outputs": [
    {
     "ename": "TypeError",
     "evalue": "'function' object is not iterable",
     "output_type": "error",
     "traceback": [
      "\u001b[0;31m---------------------------------------------------------------------------\u001b[0m",
      "\u001b[0;31mTypeError\u001b[0m                                 Traceback (most recent call last)",
      "\u001b[1;32m/home/kenobi/GitHub/Projects/Self/Diana-Wisdom-Bot/mongo/Transition.ipynb Cell 2'\u001b[0m in \u001b[0;36m<cell line: 1>\u001b[0;34m()\u001b[0m\n\u001b[0;32m----> <a href='vscode-notebook-cell:/home/kenobi/GitHub/Projects/Self/Diana-Wisdom-Bot/mongo/Transition.ipynb#ch0000001?line=0'>1</a>\u001b[0m client \u001b[39m=\u001b[39m MongoClient(fetch_db_url)\n",
      "File \u001b[0;32m~/.local/lib/python3.10/site-packages/pymongo/mongo_client.py:691\u001b[0m, in \u001b[0;36mMongoClient.__init__\u001b[0;34m(self, host, port, document_class, tz_aware, connect, type_registry, **kwargs)\u001b[0m\n\u001b[1;32m    689\u001b[0m srv_service_name \u001b[39m=\u001b[39m keyword_opts\u001b[39m.\u001b[39mget(\u001b[39m\"\u001b[39m\u001b[39msrvservicename\u001b[39m\u001b[39m\"\u001b[39m)\n\u001b[1;32m    690\u001b[0m srv_max_hosts \u001b[39m=\u001b[39m keyword_opts\u001b[39m.\u001b[39mget(\u001b[39m\"\u001b[39m\u001b[39msrvmaxhosts\u001b[39m\u001b[39m\"\u001b[39m)\n\u001b[0;32m--> 691\u001b[0m \u001b[39mif\u001b[39;00m \u001b[39mlen\u001b[39m([h \u001b[39mfor\u001b[39;00m h \u001b[39min\u001b[39;00m host \u001b[39mif\u001b[39;00m \u001b[39m\"\u001b[39m\u001b[39m/\u001b[39m\u001b[39m\"\u001b[39m \u001b[39min\u001b[39;00m h]) \u001b[39m>\u001b[39m \u001b[39m1\u001b[39m:\n\u001b[1;32m    692\u001b[0m     \u001b[39mraise\u001b[39;00m ConfigurationError(\u001b[39m\"\u001b[39m\u001b[39mhost must not contain multiple MongoDB URIs\u001b[39m\u001b[39m\"\u001b[39m)\n\u001b[1;32m    693\u001b[0m \u001b[39mfor\u001b[39;00m entity \u001b[39min\u001b[39;00m host:\n\u001b[1;32m    694\u001b[0m     \u001b[39m# A hostname can only include a-z, 0-9, '-' and '.'. If we find a '/'\u001b[39;00m\n\u001b[1;32m    695\u001b[0m     \u001b[39m# it must be a URI,\u001b[39;00m\n\u001b[1;32m    696\u001b[0m     \u001b[39m# https://en.wikipedia.org/wiki/Hostname#Restrictions_on_valid_host_names\u001b[39;00m\n",
      "\u001b[0;31mTypeError\u001b[0m: 'function' object is not iterable"
     ]
    }
   ],
   "source": [
    "client = MongoClient(fetch_db_url())\n"
   ]
  },
  {
   "cell_type": "code",
   "execution_count": 4,
   "metadata": {},
   "outputs": [],
   "source": [
    "db = client.diana_wisdom\n",
    "collection = db.quotes"
   ]
  },
  {
   "cell_type": "code",
   "execution_count": 58,
   "metadata": {},
   "outputs": [
    {
     "data": {
      "text/html": [
       "<pre style=\"white-space:pre;overflow-x:auto;line-height:normal;font-family:Menlo,'DejaVu Sans Mono',consolas,'Courier New',monospace\"><span style=\"font-weight: bold\">{</span>\n",
       "    <span style=\"color: #008000; text-decoration-color: #008000\">'_id'</span>: <span style=\"color: #800080; text-decoration-color: #800080; font-weight: bold\">ObjectId</span><span style=\"font-weight: bold\">(</span><span style=\"color: #008000; text-decoration-color: #008000\">'62ace5501716ec93964c2874'</span><span style=\"font-weight: bold\">)</span>,\n",
       "    <span style=\"color: #008000; text-decoration-color: #008000\">'id'</span>: <span style=\"color: #008080; text-decoration-color: #008080; font-weight: bold\">90</span>,\n",
       "    <span style=\"color: #008000; text-decoration-color: #008000\">'quote'</span>: <span style=\"color: #008000; text-decoration-color: #008000\">'¿Existe algo mejor que podría estar haciendo ahora en este momento?.'</span>,\n",
       "    <span style=\"color: #008000; text-decoration-color: #008000\">'source'</span>: <span style=\"font-weight: bold\">{</span>\n",
       "        <span style=\"color: #008000; text-decoration-color: #008000\">'author'</span>: <span style=\"color: #008000; text-decoration-color: #008000\">'undefined'</span>,\n",
       "        <span style=\"color: #008000; text-decoration-color: #008000\">'bookAuthor'</span>: <span style=\"font-weight: bold\">[</span><span style=\"color: #008000; text-decoration-color: #008000\">'Mario Luna'</span><span style=\"font-weight: bold\">]</span>,\n",
       "        <span style=\"color: #008000; text-decoration-color: #008000\">'book'</span>: <span style=\"color: #008000; text-decoration-color: #008000\">'Psicología del éxito'</span>\n",
       "    <span style=\"font-weight: bold\">}</span>,\n",
       "    <span style=\"color: #008000; text-decoration-color: #008000\">'labels'</span>: <span style=\"font-weight: bold\">[]</span>\n",
       "<span style=\"font-weight: bold\">}</span>\n",
       "</pre>\n"
      ],
      "text/plain": [
       "\u001b[1m{\u001b[0m\n",
       "    \u001b[32m'_id'\u001b[0m: \u001b[1;35mObjectId\u001b[0m\u001b[1m(\u001b[0m\u001b[32m'62ace5501716ec93964c2874'\u001b[0m\u001b[1m)\u001b[0m,\n",
       "    \u001b[32m'id'\u001b[0m: \u001b[1;36m90\u001b[0m,\n",
       "    \u001b[32m'quote'\u001b[0m: \u001b[32m'¿Existe algo mejor que podría estar haciendo ahora en este momento?.'\u001b[0m,\n",
       "    \u001b[32m'source'\u001b[0m: \u001b[1m{\u001b[0m\n",
       "        \u001b[32m'author'\u001b[0m: \u001b[32m'undefined'\u001b[0m,\n",
       "        \u001b[32m'bookAuthor'\u001b[0m: \u001b[1m[\u001b[0m\u001b[32m'Mario Luna'\u001b[0m\u001b[1m]\u001b[0m,\n",
       "        \u001b[32m'book'\u001b[0m: \u001b[32m'Psicología del éxito'\u001b[0m\n",
       "    \u001b[1m}\u001b[0m,\n",
       "    \u001b[32m'labels'\u001b[0m: \u001b[1m[\u001b[0m\u001b[1m]\u001b[0m\n",
       "\u001b[1m}\u001b[0m\n"
      ]
     },
     "metadata": {},
     "output_type": "display_data"
    }
   ],
   "source": [
    "# Getting a random quote from the database\n",
    "def get_random_quote():\n",
    "  _max = collection.count_documents({})\n",
    "  _random = randint(1, _max)\n",
    "  quote = collection.find_one({'id': _random})\n",
    "\n",
    "  return quote\n",
    "\n",
    "quote = get_random_quote()\n",
    "print(quote)\n"
   ]
  },
  {
   "cell_type": "code",
   "execution_count": null,
   "metadata": {},
   "outputs": [],
   "source": []
  }
 ],
 "metadata": {
  "kernelspec": {
   "display_name": "Python 3.10.4 64-bit",
   "language": "python",
   "name": "python3"
  },
  "language_info": {
   "codemirror_mode": {
    "name": "ipython",
    "version": 3
   },
   "file_extension": ".py",
   "mimetype": "text/x-python",
   "name": "python",
   "nbconvert_exporter": "python",
   "pygments_lexer": "ipython3",
   "version": "3.10.5"
  },
  "orig_nbformat": 4,
  "vscode": {
   "interpreter": {
    "hash": "97cc609b13305c559618ec78a438abc56230b9381f827f22d070313b9a1f3777"
   }
  }
 },
 "nbformat": 4,
 "nbformat_minor": 2
}
